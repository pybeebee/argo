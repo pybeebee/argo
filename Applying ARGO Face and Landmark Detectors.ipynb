{
 "cells": [
  {
   "cell_type": "code",
   "execution_count": null,
   "metadata": {
    "collapsed": false
   },
   "outputs": [],
   "source": [
    "# Show video in color\n",
    "# DOES NOT display box around face\n",
    "# Displays facial landmarks for each face\n",
    "\n",
    "import cv2\n",
    "import dlib\n",
    "\n",
    "# Initialize variables for dLib\n",
    "predictor_path = \"/Users/kaili/dlib/examples/build/sp.dat\"\n",
    "detector = dlib.fhog_object_detector(\"/Users/kaili/dlib/examples/build/face_detector.svm\")\n",
    "predictor = dlib.shape_predictor(predictor_path)\n",
    "\n",
    "cap = cv2.VideoCapture(0) # capture video from computer camera\n",
    "cap.set(3,640)\n",
    "cap.set(4,480)\n",
    "    \n",
    "while(True):\n",
    "    # Capture frame-by-frame\n",
    "    ret, frame = cap.read()\n",
    "    \n",
    "    # Detect faces and initialize variables for next step\n",
    "    dets = detector(frame, 1)\n",
    "    x_list = list()\n",
    "    y_list = list()\n",
    "    \n",
    "    # Get list of x-coordinates and y-coordinates of facial landmarks for each face\n",
    "    for d in dets:\n",
    "        shape = predictor(frame, d)\n",
    "        for index in range(0, 17):\n",
    "            point = shape.part(index)\n",
    "            x_list.append(point.x)\n",
    "            y_list.append(point.y)\n",
    "    \n",
    "    # Display bounding box\n",
    "    for rect in dets:\n",
    "        cv2.rectangle(frame, (rect.left(), rect.top()), (rect.right(), rect.bottom()), (0, 255, 0), 2)\n",
    "    \n",
    "    # Display facial landmark points on frame\n",
    "    for i in range((len(dets)*17)):\n",
    "        cv2.circle(frame, (x_list[i], y_list[i]), 3, (0, 255, 0), -1)\n",
    "       \n",
    "    # Display frame, press 'q' to exit video window\n",
    "    cv2.imshow('frame',frame)\n",
    "    if cv2.waitKey(1) & 0xFF == ord('q'):\n",
    "        break\n",
    "\n",
    "# When everything is done, release the capture\n",
    "cv2.destroyAllWindows()"
   ]
  },
  {
   "cell_type": "code",
   "execution_count": null,
   "metadata": {
    "collapsed": true
   },
   "outputs": [],
   "source": []
  }
 ],
 "metadata": {
  "anaconda-cloud": {},
  "kernelspec": {
   "display_name": "Python [conda root]",
   "language": "python",
   "name": "conda-root-py"
  },
  "language_info": {
   "codemirror_mode": {
    "name": "ipython",
    "version": 3
   },
   "file_extension": ".py",
   "mimetype": "text/x-python",
   "name": "python",
   "nbconvert_exporter": "python",
   "pygments_lexer": "ipython3",
   "version": "3.5.2"
  }
 },
 "nbformat": 4,
 "nbformat_minor": 1
}
