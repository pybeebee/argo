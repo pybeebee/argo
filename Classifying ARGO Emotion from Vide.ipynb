{
 "cells": [
  {
   "cell_type": "code",
   "execution_count": null,
   "metadata": {
    "collapsed": false
   },
   "outputs": [
    {
     "name": "stdout",
     "output_type": "stream",
     "text": [
      "[  40.01249805   34.66987165   35.           35.17101079   42.19004622\n",
      "   83.72574276  102.23991393  181.40837908   12.04159458  115.76700739\n",
      "  100.12492197   24.0208243    24.0208243 ]\n",
      "[[ 0.2528293   0.08447764  0.25338739  0.04220198  0.25318089  0.0506346\n",
      "   0.0632882 ]]\n"
     ]
    },
    {
     "name": "stderr",
     "output_type": "stream",
     "text": [
      "/Users/kaili/anaconda/lib/python3.5/site-packages/sklearn/utils/validation.py:386: DeprecationWarning: Passing 1d arrays as data is deprecated in 0.17 and willraise ValueError in 0.19. Reshape your data either using X.reshape(-1, 1) if your data has a single feature or X.reshape(1, -1) if it contains a single sample.\n",
      "  DeprecationWarning)\n",
      "/Users/kaili/anaconda/lib/python3.5/site-packages/sklearn/utils/validation.py:386: DeprecationWarning: Passing 1d arrays as data is deprecated in 0.17 and willraise ValueError in 0.19. Reshape your data either using X.reshape(-1, 1) if your data has a single feature or X.reshape(1, -1) if it contains a single sample.\n",
      "  DeprecationWarning)\n"
     ]
    },
    {
     "name": "stdout",
     "output_type": "stream",
     "text": [
      "[[ 0.24611247  0.1893309   0.13639572  0.07313549  0.03193525  0.15520271\n",
      "   0.16788745]]\n"
     ]
    },
    {
     "name": "stderr",
     "output_type": "stream",
     "text": [
      "/Users/kaili/anaconda/lib/python3.5/site-packages/sklearn/utils/validation.py:386: DeprecationWarning: Passing 1d arrays as data is deprecated in 0.17 and willraise ValueError in 0.19. Reshape your data either using X.reshape(-1, 1) if your data has a single feature or X.reshape(1, -1) if it contains a single sample.\n",
      "  DeprecationWarning)\n"
     ]
    },
    {
     "name": "stdout",
     "output_type": "stream",
     "text": [
      "[[ 0.24611247  0.1893309   0.13639572  0.07313549  0.03193525  0.15520271\n",
      "   0.16788745]]\n",
      "[  61.03277808   38.20994635   43.60045871   36.68787266   46.04345773\n",
      "  140.43147795  165.00303028  245.4893073    17.          160.33090781\n",
      "  141.12760184   34.0147027    42.19004622]\n",
      "[[ 0.2528293   0.08447764  0.25338739  0.04220198  0.25318089  0.0506346\n",
      "   0.0632882 ]]\n"
     ]
    },
    {
     "name": "stderr",
     "output_type": "stream",
     "text": [
      "/Users/kaili/anaconda/lib/python3.5/site-packages/sklearn/utils/validation.py:386: DeprecationWarning: Passing 1d arrays as data is deprecated in 0.17 and willraise ValueError in 0.19. Reshape your data either using X.reshape(-1, 1) if your data has a single feature or X.reshape(1, -1) if it contains a single sample.\n",
      "  DeprecationWarning)\n"
     ]
    },
    {
     "name": "stdout",
     "output_type": "stream",
     "text": [
      "[  62.00806399   38.18376618   43.60045871   36.40054945   47.04253395\n",
      "  144.39182802  167.01197562  244.00819658   18.          160.33090781\n",
      "  141.08862463   35.0142828    44.18144407]\n",
      "[[ 0.2528293   0.08447764  0.25338739  0.04220198  0.25318089  0.0506346\n",
      "   0.0632882 ]]\n"
     ]
    },
    {
     "name": "stderr",
     "output_type": "stream",
     "text": [
      "/Users/kaili/anaconda/lib/python3.5/site-packages/sklearn/utils/validation.py:386: DeprecationWarning: Passing 1d arrays as data is deprecated in 0.17 and willraise ValueError in 0.19. Reshape your data either using X.reshape(-1, 1) if your data has a single feature or X.reshape(1, -1) if it contains a single sample.\n",
      "  DeprecationWarning)\n"
     ]
    },
    {
     "name": "stdout",
     "output_type": "stream",
     "text": [
      "[  60.03332408   39.69886648   44.04543109   38.60051813   48.01041554\n",
      "  142.55525245  164.02743673  243.50770008   18.02775638  160.07810594\n",
      "  141.12760184   35.           44.10215414]\n",
      "[[ 0.2528293   0.08447764  0.25338739  0.04220198  0.25318089  0.0506346\n",
      "   0.0632882 ]]\n"
     ]
    },
    {
     "name": "stderr",
     "output_type": "stream",
     "text": [
      "/Users/kaili/anaconda/lib/python3.5/site-packages/sklearn/utils/validation.py:386: DeprecationWarning: Passing 1d arrays as data is deprecated in 0.17 and willraise ValueError in 0.19. Reshape your data either using X.reshape(-1, 1) if your data has a single feature or X.reshape(1, -1) if it contains a single sample.\n",
      "  DeprecationWarning)\n"
     ]
    },
    {
     "name": "stdout",
     "output_type": "stream",
     "text": [
      "[  60.00833275   38.94868419   44.04543109   38.89730068   48.0416486\n",
      "  145.38225476  165.00303028  243.99385238   18.02775638  161.29786111\n",
      "  142.0880009    35.0142828    43.18564576]\n",
      "[[ 0.2528293   0.08447764  0.25338739  0.04220198  0.25318089  0.0506346\n",
      "   0.0632882 ]]\n"
     ]
    },
    {
     "name": "stderr",
     "output_type": "stream",
     "text": [
      "/Users/kaili/anaconda/lib/python3.5/site-packages/sklearn/utils/validation.py:386: DeprecationWarning: Passing 1d arrays as data is deprecated in 0.17 and willraise ValueError in 0.19. Reshape your data either using X.reshape(-1, 1) if your data has a single feature or X.reshape(1, -1) if it contains a single sample.\n",
      "  DeprecationWarning)\n"
     ]
    },
    {
     "name": "stdout",
     "output_type": "stream",
     "text": [
      "[  60.03332408   39.05124838   44.82186966   38.89730068   48.0416486\n",
      "  139.58868149  163.          247.63077353   17.          161.55494421\n",
      "  142.05632686   35.0142828    41.10960958]\n",
      "[[ 0.2528293   0.08447764  0.25338739  0.04220198  0.25318089  0.0506346\n",
      "   0.0632882 ]]\n"
     ]
    },
    {
     "name": "stderr",
     "output_type": "stream",
     "text": [
      "/Users/kaili/anaconda/lib/python3.5/site-packages/sklearn/utils/validation.py:386: DeprecationWarning: Passing 1d arrays as data is deprecated in 0.17 and willraise ValueError in 0.19. Reshape your data either using X.reshape(-1, 1) if your data has a single feature or X.reshape(1, -1) if it contains a single sample.\n",
      "  DeprecationWarning)\n"
     ]
    },
    {
     "name": "stdout",
     "output_type": "stream",
     "text": [
      "[  61.03277808   38.94868419   44.20407221   38.60051813   47.04253395\n",
      "  141.42135624  164.01219467  242.78797334   18.          160.33090781\n",
      "  142.0880009    35.0142828    44.18144407]\n",
      "[[ 0.2528293   0.08447764  0.25338739  0.04220198  0.25318089  0.0506346\n",
      "   0.0632882 ]]\n"
     ]
    },
    {
     "name": "stderr",
     "output_type": "stream",
     "text": [
      "/Users/kaili/anaconda/lib/python3.5/site-packages/sklearn/utils/validation.py:386: DeprecationWarning: Passing 1d arrays as data is deprecated in 0.17 and willraise ValueError in 0.19. Reshape your data either using X.reshape(-1, 1) if your data has a single feature or X.reshape(1, -1) if it contains a single sample.\n",
      "  DeprecationWarning)\n"
     ]
    }
   ],
   "source": [
    "# Capture video\n",
    "# Classify emotion\n",
    "# Output the emotion\n",
    "\n",
    "import cv2\n",
    "import dlib\n",
    "import numpy as np\n",
    "import os\n",
    "import math\n",
    "from sklearn.externals import joblib\n",
    "\n",
    "# Function that returns the distance between two given points\n",
    "def ptDist(pt1, pt2):\n",
    "    x1 = pt1[0]\n",
    "    x2 = pt2[0]\n",
    "    y1 = pt1[1]\n",
    "    y2 = pt2[1]\n",
    "    return math.sqrt((x1-x2)*(x1-x2) + (y1-y2)*(y1-y2))\n",
    "\n",
    "# Function that eturns normalized array of Euclidean distances given two arrays of coordinates\n",
    "def getEucDist(nLA, eLA):\n",
    "    LDA = []\n",
    "    sum = 0\n",
    "    # Get array of distances\n",
    "    for pt in range(68):\n",
    "        dif = ptDist(eLA[pt], nLA[pt])     \n",
    "        LDA.append(dif)\n",
    "        sum += dif\n",
    "    avg = sum/68\n",
    "    # Normalize array\n",
    "    for i in range(68):\n",
    "        LDA[i] -= avg      \n",
    "    return LDA\n",
    "\n",
    "# Method to get 68 landmarks for IMAGE passed to the function\n",
    "def get17LMA(img):\n",
    "    predictor_path = \"/Users/kaili/dlib/examples/build/sp.dat\"\n",
    "    detector = dlib.fhog_object_detector(\"/Users/kaili/dlib/examples/build/face_detector.svm\")\n",
    "    predictor = dlib.shape_predictor(predictor_path)\n",
    "    LMA = []\n",
    "    \n",
    "    # Detect face(s)\n",
    "    dets = detector(img, 1)\n",
    "\n",
    "    # Get list of coordinates of 68 facial landmarks for each face\n",
    "    if len(dets)>0:\n",
    "        shape = predictor(img, dets[0])\n",
    "        for index in range(0, 17):\n",
    "            point = shape.part(index)\n",
    "            tuplepoint = (point.x, point.y)\n",
    "            LMA.append(tuplepoint)\n",
    "        return LMA\n",
    "\n",
    "# Function that returns 13-point numpy vector of distances between selected physiological pts, given the 68-point vector\n",
    "def getPhysDA(iLA):\n",
    "    PDA = []\n",
    "    PDA.append(ptDist(iLA[2], iLA[3])) #distance 0: distance between brows\n",
    "    PDA.append(ptDist(iLA[2], iLA[4])) #distance 1: inner brow to nose- left\n",
    "    PDA.append(ptDist(iLA[3], iLA[4])) #distance 2: inner brow to nose- right\n",
    "    PDA.append(ptDist(iLA[2], iLA[6])) #distance 3: inner brow to inner eye corner- left\n",
    "    PDA.append(ptDist(iLA[3], iLA[7])) #distance 4: inner brow to inner eye corner- right\n",
    "    PDA.append(ptDist(iLA[5], iLA[11])) #distance 5: outer eye corner to outer mouth corner- left\n",
    "    PDA.append(ptDist(iLA[8], iLA[12])) #distance 6: outer eye corner to outer mouth corner- right\n",
    "    PDA.append(ptDist(iLA[11], iLA[12])) #distance 7: distance between mouth corners\n",
    "    PDA.append(ptDist(iLA[15], iLA[16])) #distance 8: height of mouth\n",
    "    PDA.append(ptDist(iLA[5], iLA[13])) #distance 9: raising of upper lip\n",
    "    PDA.append(ptDist(iLA[7], iLA[14])) #distance 10: raising of upper lip\n",
    "    PDA.append(ptDist(iLA[0], iLA[9])) #distance 11: brow arch- left\n",
    "    PDA.append(ptDist(iLA[1], iLA[10])) #distance 12: brow arch- right\n",
    "    return np.asarray(PDA)\n",
    "\n",
    "    \n",
    "cap = cv2.VideoCapture(0) # capture video from computer camera\n",
    "cap.set(3,640)\n",
    "cap.set(4,480)\n",
    "loaded = joblib.load('theModel.pkl')\n",
    "detector = dlib.fhog_object_detector(\"/Users/kaili/dlib/examples/build/face_detector.svm\")\n",
    "predictor_path = \"/Users/kaili/dlib/examples/build/sp.dat\"\n",
    "predictor = dlib.shape_predictor(predictor_path)\n",
    "distances = []\n",
    "baseline = cv2.imread(\"baseline.jpg\", 1)\n",
    "\n",
    "while(True):\n",
    "    # Capture frame-by-frame\n",
    "    ret, frame = cap.read()\n",
    "    dets = detector(frame, 1)\n",
    "    x_list = list()\n",
    "    y_list = list()\n",
    "    \n",
    "    for d in dets:\n",
    "        shape = predictor(frame, d)\n",
    "        for index in range(0, 17):\n",
    "            point = shape.part(index)\n",
    "            x_list.append(point.x)\n",
    "            y_list.append(point.y)\n",
    "    \n",
    "    for i in range((len(dets)*17)):\n",
    "        cv2.circle(frame, (x_list[i], y_list[i]), 3, (0, 255, 0), -1)\n",
    "    \n",
    "    for rect in dets:\n",
    "        cv2.rectangle(frame, (rect.left(), rect.top()), (rect.right(), rect.bottom()), (0, 255, 0), 2)\n",
    "    cv2.imshow('frame',frame)\n",
    "\n",
    "    # Get physiological feature vector for current frame\n",
    "    distances.append(getPhysDA(get17LMA(baseline)))\n",
    "    if get17LMA(frame) is not None:\n",
    "        distances.append(getPhysDA(get17LMA(frame)))\n",
    "        print(getPhysDA(get17LMA(frame))) #print distances\n",
    "    \n",
    "    # Classify expression in image\n",
    "    if len(distances)>1:\n",
    "        prediction = loaded.predict_proba(np.asarray(distances[0]-distances[-1])) # Get array of probabilities\n",
    "        print(prediction)\n",
    "        index = np.argmax(prediction)\n",
    "        \n",
    "    # Print the emotion corresponding to the position\n",
    "        if index==0:\n",
    "            print(\"Anger\")\n",
    "            #os.system(\"ssh pi@192.168.1.108 python emotions/anger.py\")\n",
    "        elif index==2:\n",
    "            print(\"Disgust\")\n",
    "        elif index==3:\n",
    "            print(\"Fear\")\n",
    "        elif index==4:\n",
    "            print(\"Happiness\")\n",
    "            #os.system(\"ssh pi@192.168.1.108 python emotions/happiness.py\")\n",
    "        elif index==5:\n",
    "            print(\"Sadness\")\n",
    "            #os.system(\"ssh pi@192.168.1.108 python emotions/sadness.py\")\n",
    "        elif index==6:\n",
    "            print(\"Surprise\")\n",
    "            #os.system(\"ssh pi@192.168.1.108 python emotions/surprise.py\")\n",
    "            \n",
    "    # Break out of while loop if 'q' key pressed\n",
    "    if cv2.waitKey(1) & 0xFF == ord('q'):\n",
    "        break      \n",
    "        \n",
    "# Release video capture\n",
    "cap.release()\n",
    "cv2.destroyAllWindows()"
   ]
  },
  {
   "cell_type": "code",
   "execution_count": null,
   "metadata": {
    "collapsed": false
   },
   "outputs": [],
   "source": [
    "print(index)"
   ]
  },
  {
   "cell_type": "code",
   "execution_count": 2,
   "metadata": {
    "collapsed": false
   },
   "outputs": [
    {
     "name": "stdout",
     "output_type": "stream",
     "text": [
      "[[11  2  1  0  0  0  1]\n",
      " [ 0  7  0  0  0  0  0]\n",
      " [ 1  0 19  0  0  0  0]\n",
      " [ 1  1  0  7  1  1  0]\n",
      " [ 0  0  1  0 27  0  0]\n",
      " [ 1  5  0  2  1  6  0]\n",
      " [ 0  2  0  2  0  0 31]]\n"
     ]
    },
    {
     "data": {
      "text/plain": [
       "['theModel.pkl',\n",
       " 'theModel.pkl_01.npy',\n",
       " 'theModel.pkl_02.npy',\n",
       " 'theModel.pkl_03.npy',\n",
       " 'theModel.pkl_04.npy',\n",
       " 'theModel.pkl_05.npy',\n",
       " 'theModel.pkl_06.npy',\n",
       " 'theModel.pkl_07.npy',\n",
       " 'theModel.pkl_08.npy',\n",
       " 'theModel.pkl_09.npy',\n",
       " 'theModel.pkl_10.npy',\n",
       " 'theModel.pkl_11.npy']"
      ]
     },
     "execution_count": 2,
     "metadata": {},
     "output_type": "execute_result"
    }
   ],
   "source": [
    "##########################\n",
    "\n",
    "\n",
    "\n",
    "\n",
    "# TRAIN THE REAL DEAL PHYSIOLOGICAL MODEL\n",
    "\n",
    "\n",
    "\n",
    "\n",
    "\n",
    "\n",
    "###########################\n",
    "\n",
    "\n",
    "\n",
    "# Get array of Euclidean differences between neutral and expression 68-landmark arrays\n",
    "for imgIndex in range(len(dataset)):\n",
    "    NLA.append(get68LMA(dataset[imgIndex][0]))\n",
    "    ELA.append(get68LMA(dataset[imgIndex][1]))\n",
    "\n",
    "\"\"\"PHYSIOLOGICALLY BASED LANDMARK DETECTION MODEL\"\"\"\n",
    "# Get array of corresponding differences between 13 distances of base images and expression images\n",
    "tempPDA = []\n",
    "for i in range(len(NLA)):\n",
    "    tempPDA.append(getPDA(NLA[i])-getPDA(ELA[i]))\n",
    "PDA = np.asmatrix(tempPDA)\n",
    "\n",
    "# Feed PDA and targetValues into SVM, use cross validation, generate confusion matrix\n",
    "x_train, x_test, y_train, y_test = cross_validation.train_test_split(PDA, targetValues, test_size=0.4, random_state=3)\n",
    "CLF = svm.SVC(kernel='poly',probability=True).fit(x_train, y_train)\n",
    "predictions = CLF.predict(x_test)\n",
    "cMatrix = confusion_matrix(y_test, predictions)\n",
    "\n",
    "# Format CMatrix2 to show percentages, already rounded to 1 decimal point\n",
    "# rowSums2 = np.sum(cMatrix2, axis=1)\n",
    "# pCMatrix2 = np.divide(cMatrix2*100., rowSums2, dtype=float)\n",
    "print(cMatrix)\n",
    "\n",
    "joblib.dump(CLF, 'theModel.pkl') "
   ]
  },
  {
   "cell_type": "code",
   "execution_count": 4,
   "metadata": {
    "collapsed": true
   },
   "outputs": [],
   "source": []
  },
  {
   "cell_type": "code",
   "execution_count": null,
   "metadata": {
    "collapsed": true
   },
   "outputs": [],
   "source": []
  }
 ],
 "metadata": {
  "anaconda-cloud": {},
  "kernelspec": {
   "display_name": "Python [conda root]",
   "language": "python",
   "name": "conda-root-py"
  },
  "language_info": {
   "codemirror_mode": {
    "name": "ipython",
    "version": 3
   },
   "file_extension": ".py",
   "mimetype": "text/x-python",
   "name": "python",
   "nbconvert_exporter": "python",
   "pygments_lexer": "ipython3",
   "version": "3.5.2"
  }
 },
 "nbformat": 4,
 "nbformat_minor": 1
}
