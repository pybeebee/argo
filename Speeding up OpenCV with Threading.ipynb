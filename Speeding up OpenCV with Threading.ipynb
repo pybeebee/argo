{
 "cells": [
  {
   "cell_type": "code",
   "execution_count": 1,
   "metadata": {
    "collapsed": true
   },
   "outputs": [],
   "source": [
    "####### DEFINE FPS CLASS #########\n",
    "# import the necessary packages\n",
    "import datetime\n",
    " \n",
    "class FPS:\n",
    "    def __init__(self):\n",
    "        # store the start time, end time, and total number of frames\n",
    "        # that were examined between the start and end intervals\n",
    "        self._start = None\n",
    "        self._end = None\n",
    "        self._numFrames = 0\n",
    " \n",
    "    def start(self):\n",
    "        #start the timer\n",
    "        self._start = datetime.datetime.now()\n",
    "        return self\n",
    " \n",
    "    def stop(self):\n",
    "        # stop the timer\n",
    "        self._end = datetime.datetime.now()\n",
    " \n",
    "    def update(self):\n",
    "        # increment the total number of frames examined during the\n",
    "        # start and end intervals\n",
    "        self._numFrames += 1\n",
    " \n",
    "    def elapsed(self):\n",
    "        # return the total number of seconds between the start and\n",
    "        # end interval\n",
    "        return (self._end - self._start).total_seconds()\n",
    " \n",
    "    def fps(self):\n",
    "        # compute the (approximate) frames per second\n",
    "        return self._numFrames / self.elapsed()"
   ]
  },
  {
   "cell_type": "code",
   "execution_count": 2,
   "metadata": {
    "collapsed": false
   },
   "outputs": [],
   "source": [
    "# import the necessary packages\n",
    "from threading import Thread\n",
    "import cv2\n",
    " \n",
    "class WebcamVideoStream:\n",
    "    def __init__(self, src=0):\n",
    "        # initialize the video camera stream and read the first frame\n",
    "        # from the stream\n",
    "        self.stream = cv2.VideoCapture(src)\n",
    "        (self.grabbed, self.frame) = self.stream.read()\n",
    " \n",
    "        # initialize the variable used to indicate if the thread should\n",
    "        # be stopped\n",
    "        self.stopped = False\n",
    "    def start(self):\n",
    "        # start the thread to read frames from the video stream\n",
    "        Thread(target=self.update, args=()).start()\n",
    "        return self\n",
    " \n",
    "    def update(self):\n",
    "        # keep looping infinitely until the thread is stopped\n",
    "        while True:\n",
    "            # if the thread indicator variable is set, stop the thread\n",
    "            if self.stopped:\n",
    "                return\n",
    " \n",
    "            # otherwise, read the next frame from the stream\n",
    "            (self.grabbed, self.frame) = self.stream.read()\n",
    " \n",
    "    def read(self):\n",
    "        # return the frame most recently read\n",
    "        return self.frame\n",
    " \n",
    "    def stop(self):\n",
    "        # indicate that the thread should be stopped\n",
    "        self.stopped = True"
   ]
  },
  {
   "cell_type": "code",
   "execution_count": 5,
   "metadata": {
    "collapsed": false
   },
   "outputs": [
    {
     "name": "stdout",
     "output_type": "stream",
     "text": [
      "[INFO] sampling frames from webcam...\n",
      "[INFO] elasped time: 5.95\n",
      "[INFO] approx. FPS: 16.80\n"
     ]
    },
    {
     "data": {
      "text/plain": [
       "-1"
      ]
     },
     "execution_count": 5,
     "metadata": {},
     "output_type": "execute_result"
    }
   ],
   "source": [
    "##### USE BLOCKING, NOT THREADING #########\n",
    "# grab a pointer to the video stream and initialize the FPS counter\n",
    "import imutils\n",
    "print(\"[INFO] sampling frames from webcam...\")\n",
    "stream = cv2.VideoCapture(0)\n",
    "fps = FPS().start()\n",
    "faceCascade = cv2.CascadeClassifier(\"/Users/kaili/Dropbox/OpenCV/haarcascades/haarcascade_frontalface_default.xml\")\n",
    "\n",
    "# loop over some frames\n",
    "while fps._numFrames < 100:\n",
    "    # grab the frame from the stream and resize it to have a maximum\n",
    "    # width of 400 pixels\n",
    "    (grabbed, frame) = stream.read()\n",
    "    frame = imutils.resize(frame, width=400)\n",
    " \n",
    "    faces = faceCascade.detectMultiScale(frame, scaleFactor=1.1, minNeighbors=5, minSize=(30, 30))\n",
    "    \n",
    "    # Draw a rectangle around the faces\n",
    "    for (x, y, w, h) in faces:\n",
    "        cv2.rectangle(frame, (x, y), (x+w, y+h), (0, 255, 0), 2)\n",
    "        \n",
    "    # check to see if the frame should be displayed to our screen\n",
    "    if True:\n",
    "        cv2.imshow(\"Frame\", frame)\n",
    "        key = cv2.waitKey(1) & 0xFF\n",
    "    \n",
    "    # update the FPS counter\n",
    "    fps.update()\n",
    " \n",
    "# stop the timer and display FPS information\n",
    "fps.stop()\n",
    "print(\"[INFO] elasped time: {:.2f}\".format(fps.elapsed()))\n",
    "print(\"[INFO] approx. FPS: {:.2f}\".format(fps.fps()))\n",
    " \n",
    "# do a bit of cleanup\n",
    "stream.release()\n",
    "cv2.destroyAllWindows()\n",
    "cv2.waitKey(1)"
   ]
  },
  {
   "cell_type": "code",
   "execution_count": 3,
   "metadata": {
    "collapsed": false
   },
   "outputs": [
    {
     "name": "stdout",
     "output_type": "stream",
     "text": [
      "[INFO] sampling THREADED frames from webcam...\n",
      "[INFO] elasped time: 5.79\n",
      "[INFO] approx. FPS: 17.28\n"
     ]
    }
   ],
   "source": [
    "# created a *threaded* video stream, allow the camera sensor to warmup,\n",
    "# and start the FPS counter\n",
    "import imutils\n",
    "print(\"[INFO] sampling THREADED frames from webcam...\")\n",
    "vs = WebcamVideoStream(src=0).start()\n",
    "fps = FPS().start()\n",
    "faceCascade = cv2.CascadeClassifier(\"/Users/kaili/Dropbox/OpenCV/haarcascades/haarcascade_frontalface_default.xml\")\n",
    " \n",
    "# loop over some frames...this time using the threaded stream\n",
    "while fps._numFrames < 100:\n",
    "    # grab the frame from the threaded video stream and resize it\n",
    "    # to have a maximum width of 400 pixels\n",
    "    frame = vs.read()\n",
    "    frame = imutils.resize(frame, width=400)\n",
    "    \n",
    "    faces = faceCascade.detectMultiScale(frame, scaleFactor=1.1, minNeighbors=5, minSize=(30, 30))\n",
    "    \n",
    "    # Draw a rectangle around the faces\n",
    "    if len(faces)>0:\n",
    "        (x,y,w,h)=faces[0]\n",
    "        cv2.rectangle(frame, (x, y), (x+w, y+h), (0, 255, 0), 2)\n",
    "        \n",
    "    # check to see if the frame should be displayed to our screen\n",
    "    if True:\n",
    "        cv2.imshow(\"Frame\", frame)\n",
    "        key = cv2.waitKey(1) & 0xFF\n",
    " \n",
    "    # update the FPS counter\n",
    "    fps.update()\n",
    " \n",
    "# stop the timer and display FPS information\n",
    "fps.stop()\n",
    "print(\"[INFO] elasped time: {:.2f}\".format(fps.elapsed()))\n",
    "print(\"[INFO] approx. FPS: {:.2f}\".format(fps.fps()))\n",
    " \n",
    "# do a bit of cleanup\n",
    "cv2.destroyAllWindows()\n",
    "cv2.waitKey(1)\n",
    "vs.stop()"
   ]
  },
  {
   "cell_type": "code",
   "execution_count": 4,
   "metadata": {
    "collapsed": true
   },
   "outputs": [],
   "source": [
    "fps.stop()"
   ]
  },
  {
   "cell_type": "code",
   "execution_count": null,
   "metadata": {
    "collapsed": true
   },
   "outputs": [],
   "source": []
  }
 ],
 "metadata": {
  "anaconda-cloud": {},
  "kernelspec": {
   "display_name": "Python [conda root]",
   "language": "python",
   "name": "conda-root-py"
  },
  "language_info": {
   "codemirror_mode": {
    "name": "ipython",
    "version": 3
   },
   "file_extension": ".py",
   "mimetype": "text/x-python",
   "name": "python",
   "nbconvert_exporter": "python",
   "pygments_lexer": "ipython3",
   "version": "3.5.2"
  }
 },
 "nbformat": 4,
 "nbformat_minor": 1
}
