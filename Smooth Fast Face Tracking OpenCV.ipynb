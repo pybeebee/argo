{
 "cells": [
  {
   "cell_type": "code",
   "execution_count": 1,
   "metadata": {
    "collapsed": false
   },
   "outputs": [
    {
     "name": "stdout",
     "output_type": "stream",
     "text": [
      "Info[0] is ARGO\\x00\\x00\\x00\\x00\\x00\\x00\\x00\\x00\\x00\\x00\\x00\n",
      "Info[0] is ARGO\n",
      "Name parsed is 'ARGO'\n"
     ]
    }
   ],
   "source": [
    "# Capture video from robot camera\n",
    "# Show video in color\n",
    "# Display box around face using OPENCV HAAR CASCADE (NO DLIB)\n",
    "# Does NOT display facial landmarks for each face\n",
    "# SUPER FAST VERSION OF FACE TRACKING\n",
    "\n",
    "import cv2\n",
    "import dlib\n",
    "import nxt.locator\n",
    "import imutils\n",
    "from nxt.motor import *\n",
    "\n",
    "cap = cv2.VideoCapture(0) # capture video from robot camera\n",
    "cap.set(3,640)\n",
    "cap.set(4,480)\n",
    "b = nxt.locator.find_one_brick() # connect to NXT brick\n",
    "\n",
    "faceCascade = cv2.CascadeClassifier(\"/Users/kaili/Dropbox/OpenCV/haarcascades/haarcascade_frontalface_default.xml\")\n",
    "\n",
    "while(True):\n",
    "    # Capture frame-by-frame\n",
    "    (ret, frame) = cap.read()\n",
    " #   frame = imutils.resize(frame, width=400)\n",
    "    faces = faceCascade.detectMultiScale(frame, scaleFactor=1.1, minNeighbors=5, minSize=(30, 30))\n",
    "    \n",
    "    if len(faces)>0:\n",
    "        (x,y,w,h)=faces[0]\n",
    "        cv2.rectangle(frame,(x,y),(x+w,y+h),(255,0,0),2)\n",
    "        centerx = x+w/2\n",
    "        centery = y+h/2\n",
    "        # Draw a rectangle around the faces\n",
    "        if centery>280:\n",
    "            Motor(b, PORT_B).turn( 10, 10)\n",
    "        elif centery<200:\n",
    "            Motor(b, PORT_B).turn(-10, 10)\n",
    "        if centerx>360:\n",
    "            Motor(b, PORT_A).turn(10, 10)\n",
    "        elif centerx<280:\n",
    "            Motor(b, PORT_A).turn(-10, 10)\n",
    "\n",
    "    #Display frame, press 'q' to exit video window\n",
    "    cv2.imshow('frame',frame)\n",
    "    if cv2.waitKey(1) & 0xFF == ord('q'):\n",
    "        break\n",
    "\n",
    "# When everything done, release the capture\n",
    "cap.release()\n",
    "cv2.destroyAllWindows()\n",
    "#cv2.waitKey(1)"
   ]
  },
  {
   "cell_type": "code",
   "execution_count": 1,
   "metadata": {
    "collapsed": false
   },
   "outputs": [
    {
     "name": "stdout",
     "output_type": "stream",
     "text": [
      "Info[0] is ARGO\\x00\\x00\\x00\\x00\\x00\\x00\\x00\\x00\\x00\\x00\\x00\n",
      "Info[0] is ARGO\n",
      "Name parsed is 'ARGO'\n"
     ]
    },
    {
     "ename": "KeyboardInterrupt",
     "evalue": "",
     "output_type": "error",
     "traceback": [
      "\u001b[0;31m---------------------------------------------------------------------------\u001b[0m",
      "\u001b[0;31mKeyboardInterrupt\u001b[0m                         Traceback (most recent call last)",
      "\u001b[0;32m<ipython-input-1-deae2b232ead>\u001b[0m in \u001b[0;36m<module>\u001b[0;34m()\u001b[0m\n\u001b[1;32m     22\u001b[0m     \u001b[0;34m(\u001b[0m\u001b[0mret\u001b[0m\u001b[0;34m,\u001b[0m \u001b[0mframe\u001b[0m\u001b[0;34m)\u001b[0m \u001b[0;34m=\u001b[0m \u001b[0mcap\u001b[0m\u001b[0;34m.\u001b[0m\u001b[0mread\u001b[0m\u001b[0;34m(\u001b[0m\u001b[0;34m)\u001b[0m\u001b[0;34m\u001b[0m\u001b[0m\n\u001b[1;32m     23\u001b[0m  \u001b[0;31m#   frame = imutils.resize(frame, width=400)\u001b[0m\u001b[0;34m\u001b[0m\u001b[0;34m\u001b[0m\u001b[0m\n\u001b[0;32m---> 24\u001b[0;31m     \u001b[0mfaces\u001b[0m \u001b[0;34m=\u001b[0m \u001b[0mfaceCascade\u001b[0m\u001b[0;34m.\u001b[0m\u001b[0mdetectMultiScale\u001b[0m\u001b[0;34m(\u001b[0m\u001b[0mframe\u001b[0m\u001b[0;34m,\u001b[0m \u001b[0mscaleFactor\u001b[0m\u001b[0;34m=\u001b[0m\u001b[0;36m1.1\u001b[0m\u001b[0;34m,\u001b[0m \u001b[0mminNeighbors\u001b[0m\u001b[0;34m=\u001b[0m\u001b[0;36m5\u001b[0m\u001b[0;34m,\u001b[0m \u001b[0mminSize\u001b[0m\u001b[0;34m=\u001b[0m\u001b[0;34m(\u001b[0m\u001b[0;36m30\u001b[0m\u001b[0;34m,\u001b[0m \u001b[0;36m30\u001b[0m\u001b[0;34m)\u001b[0m\u001b[0;34m)\u001b[0m\u001b[0;34m\u001b[0m\u001b[0m\n\u001b[0m\u001b[1;32m     25\u001b[0m \u001b[0;34m\u001b[0m\u001b[0m\n\u001b[1;32m     26\u001b[0m     \u001b[0;32mif\u001b[0m \u001b[0mlen\u001b[0m\u001b[0;34m(\u001b[0m\u001b[0mfaces\u001b[0m\u001b[0;34m)\u001b[0m\u001b[0;34m>\u001b[0m\u001b[0;36m0\u001b[0m\u001b[0;34m:\u001b[0m\u001b[0;34m\u001b[0m\u001b[0m\n",
      "\u001b[0;31mKeyboardInterrupt\u001b[0m: "
     ]
    }
   ],
   "source": [
    "# Capture video from robot camera\n",
    "# Show video in color\n",
    "# Display box around face using OPENCV HAAR CASCADE (NO DLIB)\n",
    "# Does NOT display facial landmarks for each face\n",
    "# SUPER FAST VERSION OF FACE TRACKING\n",
    "\n",
    "import cv2\n",
    "import dlib\n",
    "import nxt.locator\n",
    "import imutils\n",
    "from nxt.motor import *\n",
    "\n",
    "cap = cv2.VideoCapture(0) # capture video from robot camera\n",
    "cap.set(3,640)\n",
    "cap.set(4,480)\n",
    "b = nxt.locator.find_one_brick() # connect to NXT brick\n",
    "\n",
    "faceCascade = cv2.CascadeClassifier(\"/Users/kaili/Dropbox/OpenCV/haarcascades/haarcascade_frontalface_default.xml\")\n",
    "\n",
    "while(True):\n",
    "    # Capture frame-by-frame\n",
    "    (ret, frame) = cap.read()\n",
    " #   frame = imutils.resize(frame, width=400)\n",
    "    faces = faceCascade.detectMultiScale(frame, scaleFactor=1.1, minNeighbors=5, minSize=(30, 30))\n",
    "    \n",
    "    if len(faces)>0:\n",
    "        (x,y,w,h)=faces[0]\n",
    "        cv2.rectangle(frame,(x,y),(x+w,y+h),(255,0,0),2)\n",
    "        centerx = x+w/2\n",
    "        centery = y+h/2\n",
    "        # Draw a rectangle around the faces\n",
    "        if centery>320:\n",
    "            Motor(b, PORT_B).run(60)\n",
    "        elif centery<160:\n",
    "            Motor(b, PORT_B).run(-60)\n",
    "        else:\n",
    "            Motor(b, PORT_B).idle()\n",
    "        if centerx>400:\n",
    "            Motor(b, PORT_A).run(60)\n",
    "        elif centerx<240:\n",
    "            Motor(b, PORT_A).run(-60)\n",
    "        else:\n",
    "            Motor(b, PORT_A).idle()\n",
    "    else:\n",
    "        Motor(b, PORT_A).idle()\n",
    "        Motor(b, PORT_B).idle()\n",
    "    #Display frame, press 'q' to exit video window\n",
    "    cv2.imshow('frame',frame)\n",
    "    if cv2.waitKey(1) & 0xFF == ord('q'):\n",
    "        break\n",
    "\n",
    "# When everything done, release the capture\n",
    "cap.release()\n",
    "cv2.destroyAllWindows()"
   ]
  },
  {
   "cell_type": "code",
   "execution_count": 2,
   "metadata": {
    "collapsed": false
   },
   "outputs": [],
   "source": [
    "Motor(b, PORT_A).idle()\n",
    "Motor(b, PORT_B).idle()"
   ]
  },
  {
   "cell_type": "code",
   "execution_count": null,
   "metadata": {
    "collapsed": true
   },
   "outputs": [],
   "source": []
  }
 ],
 "metadata": {
  "anaconda-cloud": {},
  "kernelspec": {
   "display_name": "Python [conda root]",
   "language": "python",
   "name": "conda-root-py"
  },
  "language_info": {
   "codemirror_mode": {
    "name": "ipython",
    "version": 3
   },
   "file_extension": ".py",
   "mimetype": "text/x-python",
   "name": "python",
   "nbconvert_exporter": "python",
   "pygments_lexer": "ipython3",
   "version": "3.5.2"
  }
 },
 "nbformat": 4,
 "nbformat_minor": 1
}
