{
 "cells": [
  {
   "cell_type": "code",
   "execution_count": null,
   "metadata": {
    "collapsed": false
   },
   "outputs": [],
   "source": [
    "# Capture video from robot camera\n",
    "# Show video in color\n",
    "# Display box around face using OPENCV HAAR CASCADE (NO DLIB)\n",
    "# Does NOT display facial landmarks for each face\n",
    "# SUPER FAST VERSION OF FACE TRACKING\n",
    "\n",
    "import cv2\n",
    "import dlib\n",
    "import nxt.locator\n",
    "import imutils\n",
    "import os\n",
    "from nxt.motor import *\n",
    "\n",
    "POWER=58\n",
    "cap = cv2.VideoCapture(0) # capture video from robot camera\n",
    "cap.set(3,640)\n",
    "cap.set(4,480)\n",
    "b = nxt.locator.find_one_brick() # connect to NXT brick\n",
    "detector = dlib.get_frontal_face_detector()\n",
    "\n",
    "while(True):\n",
    "    # Capture frame-by-frame\n",
    "    (ret, frame) = cap.read()\n",
    " #   frame = imutils.resize(frame, width=400)\n",
    "    dets = detector(frame, 1)\n",
    "\n",
    "    # Draw a rectangle around the faces \n",
    "    if len(dets)>0:\n",
    "        rect=dets[0]\n",
    "        cv2.rectangle(frame, (rect.left(), rect.top()), (rect.right(), rect.bottom()), (0, 255, 0), 2)\n",
    "        facecenter=rect.center()\n",
    "        # Draw a rectangle around the faces\n",
    "        if facecenter.y>320:\n",
    "            Motor(b, PORT_B).run(POWER)\n",
    "        elif facecenter.y<160:\n",
    "            Motor(b, PORT_B).run(-POWER-7)\n",
    "        else:\n",
    "            Motor(b, PORT_B).idle()\n",
    "        if facecenter.x>400:\n",
    "            Motor(b, PORT_A).run(POWER)\n",
    "        elif facecenter.x<240:\n",
    "            Motor(b, PORT_A).run(-POWER)\n",
    "        else:\n",
    "            Motor(b, PORT_A).idle()\n",
    "    else:\n",
    "        Motor(b, PORT_A).idle()\n",
    "        Motor(b, PORT_B).idle()\n",
    "    #Display frame, press 'q' to exit video window\n",
    "    cv2.imshow('frame',frame)\n",
    "    if cv2.waitKey(1) & 0xFF == ord('q'):\n",
    "        break\n",
    "\n",
    "# When everything done, release the capture\n",
    "cap.release()\n",
    "cv2.destroyAllWindows()\n",
    "#cv2.waitKey(1)"
   ]
  },
  {
   "cell_type": "code",
   "execution_count": null,
   "metadata": {
    "collapsed": false
   },
   "outputs": [
    {
     "name": "stdout",
     "output_type": "stream",
     "text": [
      "Info[0] is ARGO\\x00\\x00\\x00\\x00\\x00\\x00\\x00\\x00\\x00\\x00\\x00\n",
      "Info[0] is ARGO\n",
      "Name parsed is 'ARGO'\n"
     ]
    }
   ],
   "source": [
    "# Capture video from robot camera\n",
    "# Show video in color\n",
    "# Display box around face using OPENCV HAAR CASCADE (NO DLIB)\n",
    "# Does NOT display facial landmarks for each face\n",
    "# SUPER FAST VERSION OF FACE TRACKING\n",
    "\n",
    "import cv2\n",
    "import dlib\n",
    "import nxt.locator\n",
    "import imutils\n",
    "import os\n",
    "from nxt.motor import *\n",
    "\n",
    "POWER=60\n",
    "cap = cv2.VideoCapture(1) # capture video from robot camera\n",
    "cap.set(3,320)\n",
    "cap.set(4,240)\n",
    "b = nxt.locator.find_one_brick() # connect to NXT brick\n",
    "detector = dlib.get_frontal_face_detector()\n",
    "\n",
    "while(True):\n",
    "    # Capture frame-by-frame\n",
    "    (ret, frame) = cap.read()\n",
    "#     frame = imutils.resize(frame, width=400)\n",
    "    dets = detector(frame, 1)\n",
    "\n",
    "    # Draw a rectangle around the faces \n",
    "    if len(dets)>0:\n",
    "        rect=dets[0]\n",
    "        cv2.rectangle(frame, (rect.left(), rect.top()), (rect.right(), rect.bottom()), (0, 255, 0), 2)\n",
    "        facecenter=rect.center()\n",
    "        # Draw a rectangle around the faces\n",
    "        if facecenter.y>160:\n",
    "            Motor(b, PORT_B).run(POWER+7)\n",
    "        elif facecenter.y<80:\n",
    "            Motor(b, PORT_B).run(-POWER-7)\n",
    "        else:\n",
    "            Motor(b, PORT_B).idle()\n",
    "        if facecenter.x>200:\n",
    "            Motor(b, PORT_A).run(POWER)\n",
    "        elif facecenter.x<120:\n",
    "            Motor(b, PORT_A).run(-POWER)\n",
    "        else:\n",
    "            Motor(b, PORT_A).idle()\n",
    "    else:\n",
    "        Motor(b, PORT_A).idle()\n",
    "        Motor(b, PORT_B).idle()\n",
    "    #Display frame, press 'q' to exit video window\n",
    "    cv2.imshow('f rame',frame)\n",
    "    if cv2.waitKey(1) & 0xFF==ord(' '):\n",
    "        break\n",
    "\n",
    "# When everything done, release the capture\n",
    "cap.release()\n",
    "cv2.destroyAllWindows()\n",
    "cv2.waitKey(1)\n",
    "b.sock.close()"
   ]
  },
  {
   "cell_type": "code",
   "execution_count": 1,
   "metadata": {
    "collapsed": false
   },
   "outputs": [
    {
     "name": "stdout",
     "output_type": "stream",
     "text": [
      "python: can't open file '/Users/kaili/ARGO/Emotions/all.py': [Errno 2] No such file or directory\r\n"
     ]
    }
   ],
   "source": [
    "!ssh pi@192.168.1.119 python /home/pi/ARGO/Emotions/all.py"
   ]
  },
  {
   "cell_type": "code",
   "execution_count": 1,
   "metadata": {
    "collapsed": false
   },
   "outputs": [
    {
     "ename": "NameError",
     "evalue": "name 'Motor' is not defined",
     "output_type": "error",
     "traceback": [
      "\u001b[0;31m---------------------------------------------------------------------------\u001b[0m",
      "\u001b[0;31mNameError\u001b[0m                                 Traceback (most recent call last)",
      "\u001b[0;32m<ipython-input-1-f6f6c6764f87>\u001b[0m in \u001b[0;36m<module>\u001b[0;34m()\u001b[0m\n\u001b[1;32m      1\u001b[0m \u001b[0;31m#Emergency Stop\u001b[0m\u001b[0;34m\u001b[0m\u001b[0;34m\u001b[0m\u001b[0m\n\u001b[0;32m----> 2\u001b[0;31m \u001b[0mMotor\u001b[0m\u001b[0;34m(\u001b[0m\u001b[0mb\u001b[0m\u001b[0;34m,\u001b[0m \u001b[0mPORT_A\u001b[0m\u001b[0;34m)\u001b[0m\u001b[0;34m.\u001b[0m\u001b[0midle\u001b[0m\u001b[0;34m(\u001b[0m\u001b[0;34m)\u001b[0m\u001b[0;34m\u001b[0m\u001b[0m\n\u001b[0m\u001b[1;32m      3\u001b[0m \u001b[0mMotor\u001b[0m\u001b[0;34m(\u001b[0m\u001b[0mb\u001b[0m\u001b[0;34m,\u001b[0m \u001b[0mPORT_B\u001b[0m\u001b[0;34m)\u001b[0m\u001b[0;34m.\u001b[0m\u001b[0midle\u001b[0m\u001b[0;34m(\u001b[0m\u001b[0;34m)\u001b[0m\u001b[0;34m\u001b[0m\u001b[0m\n",
      "\u001b[0;31mNameError\u001b[0m: name 'Motor' is not defined"
     ]
    }
   ],
   "source": [
    "#Emergency Stop\n",
    "Motor(b, PORT_A).idle()\n",
    "Motor(b, PORT_B).idle()\n"
   ]
  },
  {
   "cell_type": "code",
   "execution_count": null,
   "metadata": {
    "collapsed": true
   },
   "outputs": [],
   "source": []
  }
 ],
 "metadata": {
  "anaconda-cloud": {},
  "kernelspec": {
   "display_name": "Python [conda root]",
   "language": "python",
   "name": "conda-root-py"
  },
  "language_info": {
   "codemirror_mode": {
    "name": "ipython",
    "version": 3
   },
   "file_extension": ".py",
   "mimetype": "text/x-python",
   "name": "python",
   "nbconvert_exporter": "python",
   "pygments_lexer": "ipython3",
   "version": "3.5.2"
  }
 },
 "nbformat": 4,
 "nbformat_minor": 1
}
