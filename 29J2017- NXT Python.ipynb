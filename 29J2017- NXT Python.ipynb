{
 "cells": [
  {
   "cell_type": "code",
   "execution_count": 7,
   "metadata": {
    "collapsed": false
   },
   "outputs": [
    {
     "name": "stdout",
     "output_type": "stream",
     "text": [
      "Info[0] is ARGO\\x00\\x00\\x00\\x00\\x00\\x00\\x00\\x00\\x00\\x00\\x00\n",
      "Info[0] is ARGO\n",
      "Name parsed is 'ARGO'\n"
     ]
    }
   ],
   "source": [
    "###### Motor Test 1\n",
    "\"\"\"\n",
    "Asks the user to select an output Port.\n",
    "Then the connected motor will turn 360 degree\n",
    "forwards and then backwards with maximum speed.\n",
    "\"\"\"\n",
    "\n",
    "import nxt.locator\n",
    "from nxt.motor import *\n",
    "\n",
    "def user_select_ouput_port():\n",
    "    \"\"\"\n",
    "    returns PORT_A, PORT_B or PORT_C\n",
    "    \"\"\"\n",
    "    port = 'B'\n",
    "    while port is None:\n",
    "        port = input(\"Please select a port where a motor is connected (A, B or C): \")\n",
    "        if port.upper() == 'A':\n",
    "            return PORT_A\n",
    "        elif port.upper() == 'B':\n",
    "            return PORT_B\n",
    "        elif port.upper() == 'C':\n",
    "            return PORT_C\n",
    "        port = None\n",
    "\n",
    "def select_and_spin(b):\n",
    "    port = PORT_B\n",
    "    motor = Motor(b, port)\n",
    "    motor.turn(-3, 15)\n",
    "    motor.turn(3, 15)\n",
    "\n",
    "b = nxt.locator.find_one_brick()\n",
    "select_and_spin(b)\n",
    "b.sock.close()\n"
   ]
  },
  {
   "cell_type": "code",
   "execution_count": null,
   "metadata": {
    "collapsed": false
   },
   "outputs": [],
   "source": [
    "### NXT Test\n",
    "import sys, traceback\n",
    "\n",
    "if '--help' in sys.argv:\n",
    "    print(\"\"\"Tests the nxt-python setup and brick firmware interaction\n",
    "\n",
    "Usage: nxt_test           # Finds one brick and shows information about it\n",
    "       nxt_test --verbose # Shows more debug information when trying to find the brick\n",
    "       nxt_test --help    # Shows this help\n",
    "\"\"\")\n",
    "    exit(0)\n",
    "\n",
    "import nxt.locator\n",
    "import nxt.brick\n",
    "\n",
    "debug = False\n",
    "if '--verbose' in sys.argv:\n",
    "    debug = True\n",
    "\n",
    "b = None\n",
    "try:\n",
    "    b = nxt.locator.find_one_brick(debug=debug)\n",
    "    name, host, signal_strength, user_flash = b.get_device_info()\n",
    "    print('NXT brick name: %s' % name)\n",
    "    print('Host address: %s' % host)\n",
    "    print('Bluetooth signal strength: %s' % signal_strength)\n",
    "    print('Free user flash: %s' % user_flash)\n",
    "    prot_version, fw_version = b.get_firmware_version()\n",
    "    print('Protocol version %s.%s' % prot_version)\n",
    "    print('Firmware version %s.%s' % fw_version)\n",
    "    millivolts = b.get_battery_level()\n",
    "    print('Battery level %s mV' % millivolts)\n",
    "    b.sock.close()\n",
    "except:\n",
    "    print(\"Error while running test:\")\n",
    "    traceback.print_tb(sys.exc_info()[2])\n",
    "    print(str(sys.exc_info()[1]))\n",
    "    if b in locals():\n",
    "        b.sock.close()\n"
   ]
  },
  {
   "cell_type": "code",
   "execution_count": null,
   "metadata": {
    "collapsed": true
   },
   "outputs": [],
   "source": []
  }
 ],
 "metadata": {
  "anaconda-cloud": {},
  "kernelspec": {
   "display_name": "Python [conda root]",
   "language": "python",
   "name": "conda-root-py"
  },
  "language_info": {
   "codemirror_mode": {
    "name": "ipython",
    "version": 3
   },
   "file_extension": ".py",
   "mimetype": "text/x-python",
   "name": "python",
   "nbconvert_exporter": "python",
   "pygments_lexer": "ipython3",
   "version": "3.5.2"
  }
 },
 "nbformat": 4,
 "nbformat_minor": 1
}
