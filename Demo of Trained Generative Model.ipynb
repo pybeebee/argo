{
 "cells": [
  {
   "cell_type": "code",
   "execution_count": 20,
   "metadata": {
    "collapsed": true
   },
   "outputs": [],
   "source": [
    "### Neutral\n",
    "def neutral():\n",
    "    !ssh pi@192.168.1.119 \"echo 6=140 > /dev/servoblaster\"\n",
    "    !ssh pi@192.168.1.119 \"echo 3=120 > /dev/servoblaster\"\n",
    "    !ssh pi@192.168.1.119 \"echo 4=135 > /dev/servoblaster\"\n",
    "\n",
    "\n",
    "### Anger\n",
    "def anger():\n",
    "    a = 162\n",
    "    b = 111\n",
    "    c = 159\n",
    "    for i in range(0,13,6):\n",
    "        aa = 140 + i*2\n",
    "        bb = 120 - i\n",
    "        cc = 135 + i\n",
    "        !ssh pi@192.168.1.119 \"echo 6=$aa > /dev/servoblaster\"\n",
    "        !ssh pi@192.168.1.119 \"echo 3=$bb > /dev/servoblaster\"\n",
    "        !ssh pi@192.168.1.119 \"echo 4=$cc > /dev/servoblaster\"\n",
    "    !sleep 3\n",
    "    for i in range(12,0,-6):\n",
    "        aa = 140 + i*2\n",
    "        bb = 120 - i\n",
    "        cc = 135 + i\n",
    "        !ssh pi@192.168.1.119 \"echo 6=$aa > /dev/servoblaster\"\n",
    "        !ssh pi@192.168.1.119 \"echo 3=$bb > /dev/servoblaster\"\n",
    "        !ssh pi@192.168.1.119 \"echo 4=$cc > /dev/servoblaster\"\n",
    "    \n",
    "\n",
    "### Happiness\n",
    "def happy():\n",
    "    !ssh pi@192.168.1.119 \"echo 6=$107 > /dev/servoblaster\"\n",
    "    !ssh pi@192.168.1.119 \"echo 3=$149 > /dev/servoblaster\"\n",
    "    !ssh pi@192.168.1.119 \"echo 4=$111 > /dev/servoblaster\"\n",
    "\n",
    "### Sadness\n",
    "def sad():\n",
    "    !ssh pi@192.168.1.119 \"echo 6=$125 > /dev/servoblaster\"\n",
    "    !ssh pi@192.168.1.119 \"echo 3=$111 > /dev/servoblaster\"\n",
    "    !ssh pi@192.168.1.119 \"echo 4=$159 > /dev/servoblaster\"\n",
    "\n",
    "### Surprise\n",
    "def surprise():\n",
    "    !ssh pi@192.168.1.119 \"echo 6=$113 > /dev/servoblaster\"\n",
    "    !ssh pi@192.168.1.119 \"echo 3=$119 > /dev/servoblaster\"\n",
    "    !ssh pi@192.168.1.119 \"echo 4=$121 > /dev/servoblaster\"\n",
    "    !ssh pi@192.168.1.119 \"echo 2=$50 > /dev/servoblaster\"\n"
   ]
  },
  {
   "cell_type": "code",
   "execution_count": 21,
   "metadata": {
    "collapsed": false
   },
   "outputs": [],
   "source": [
    "anger()"
   ]
  },
  {
   "cell_type": "code",
   "execution_count": 26,
   "metadata": {
    "collapsed": true
   },
   "outputs": [],
   "source": [
    "neutral()"
   ]
  },
  {
   "cell_type": "code",
   "execution_count": 25,
   "metadata": {
    "collapsed": true
   },
   "outputs": [],
   "source": [
    "!ssh pi@192.168.1.119 \"echo 6=125 > /dev/servoblaster\"\n"
   ]
  },
  {
   "cell_type": "code",
   "execution_count": null,
   "metadata": {
    "collapsed": true
   },
   "outputs": [],
   "source": [
    "!ssh pi@192.168.1.119 python /home/pi/ARGO/Emotions/all.py"
   ]
  }
 ],
 "metadata": {
  "kernelspec": {
   "display_name": "Python [conda root]",
   "language": "python",
   "name": "conda-root-py"
  },
  "language_info": {
   "codemirror_mode": {
    "name": "ipython",
    "version": 3
   },
   "file_extension": ".py",
   "mimetype": "text/x-python",
   "name": "python",
   "nbconvert_exporter": "python",
   "pygments_lexer": "ipython3",
   "version": "3.5.2"
  }
 },
 "nbformat": 4,
 "nbformat_minor": 1
}
