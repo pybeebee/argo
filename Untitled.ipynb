{
 "cells": [
  {
   "cell_type": "code",
   "execution_count": null,
   "metadata": {
    "collapsed": true
   },
   "outputs": [],
   "source": [
    "x_train, x_test, y_train, y_test = cross_validation.train_test_split(featureMatrix, targetValues, test_size=0.4, random_state=3)\n",
    "physSVM = svm.SVC(kernel='poly',probability=True).fit(x_train, y_train)\n",
    "\n",
    "\n",
    "predictions = physSVM.predict(x_test)\n",
    "\n",
    "\n",
    "cMatrix = confusion_matrix(y_test, predictions)\n",
    "print(cMatrix)"
   ]
  }
 ],
 "metadata": {
  "anaconda-cloud": {},
  "kernelspec": {
   "display_name": "Python [conda root]",
   "language": "python",
   "name": "conda-root-py"
  },
  "language_info": {
   "codemirror_mode": {
    "name": "ipython",
    "version": 3
   },
   "file_extension": ".py",
   "mimetype": "text/x-python",
   "name": "python",
   "nbconvert_exporter": "python",
   "pygments_lexer": "ipython3",
   "version": "3.5.2"
  }
 },
 "nbformat": 4,
 "nbformat_minor": 1
}
